{
 "cells": [
  {
   "cell_type": "markdown",
   "id": "30effd09",
   "metadata": {},
   "source": [
    "# 🧹📓 **02 - Generación de datos aumentados**\n"
   ]
  },
  {
   "cell_type": "markdown",
   "id": "e2e5fede",
   "metadata": {},
   "source": [
    "Este notebook crea versiones aumentadas del dataset **sin depender de librerías avanzadas**. Se utilizan `cv2`, `numpy`, `PIL` y utilidades estándar para producir flips, cambios de color y desenfoques de movimiento."
   ]
  },
  {
   "cell_type": "code",
   "execution_count": 34,
   "id": "64b7c077",
   "metadata": {},
   "outputs": [],
   "source": [
    "import os, glob, random, shutil\n",
    "from pathlib import Path\n",
    "import numpy as np\n",
    "import cv2\n",
    "from tqdm import tqdm"
   ]
  },
  {
   "cell_type": "code",
   "execution_count": 35,
   "id": "a632cddf",
   "metadata": {},
   "outputs": [
    {
     "name": "stdout",
     "output_type": "stream",
     "text": [
      "Augmentations se guardarán en: data\\interim\\train_aug\n"
     ]
    }
   ],
   "source": [
    "# Rutas de origen (data/raw) y destino (data/interim)\n",
    "RAW_IMG_DIR = Path('data/raw/train/images')\n",
    "RAW_LBL_DIR = Path('data/raw/train/labels')\n",
    "\n",
    "AUG_IMG_DIR = Path('data/interim/train_aug/images')\n",
    "AUG_LBL_DIR = Path('data/interim/train_aug/labels')\n",
    "if AUG_IMG_DIR.exists():\n",
    "    shutil.rmtree(AUG_IMG_DIR)\n",
    "AUG_IMG_DIR.mkdir(parents=True, exist_ok=True)\n",
    "AUG_LBL_DIR.mkdir(parents=True, exist_ok=True)\n",
    "print('Augmentations se guardarán en:', AUG_IMG_DIR.parent)"
   ]
  },
  {
   "cell_type": "code",
   "execution_count": null,
   "id": "c85ea13c",
   "metadata": {},
   "outputs": [],
   "source": [
    "def hflip(img, labels):\n",
    "    # Horizontal flip\n",
    "    # Cambia las coordenadas x de las etiquetas \n",
    "    flipped = cv2.flip(img, 1)\n",
    "    h, w, _ = img.shape\n",
    "    new_labels = []\n",
    "    # Las coordenadas x se invierten\n",
    "    # x_new = 1 - x para invertir horizontalmente \n",
    "    for cls, x, y, bw, bh in labels:\n",
    "        x_new = 1 - x\n",
    "        new_labels.append((cls, x_new, y, bw, bh)) # cls, x, y, bw, bh \n",
    "    return flipped, new_labels\n",
    "\n",
    "\n",
    "def hsv_jitter(img):\n",
    "    # HSV jitter\n",
    "    # Cambia el tono, saturación y valor de la imagen\n",
    "    hsv = cv2.cvtColor(img, cv2.COLOR_BGR2HSV).astype(np.float32)\n",
    "    h, s, v = cv2.split(hsv)\n",
    "    h = (h + random.uniform(-5,5)) % 180 # 180 grados para el tono \n",
    "    s *= random.uniform(0.8, 1.2) # Saturación entre 0.8 y 1.2 \n",
    "    v *= random.uniform(0.8, 1.2) # Valor entre 0.8 y 1.2 \n",
    "    hsv_aug = cv2.merge([h, s, v]) # Combina los canales modificados \n",
    "    hsv_aug = np.clip(hsv_aug,0,255).astype(np.uint8) # Asegura que los valores estén en el rango correcto \n",
    "    return cv2.cvtColor(hsv_aug, cv2.COLOR_HSV2BGR) # Convierte de nuevo a BGR \n",
    "\n",
    "def motion_blur(img, k=5):\n",
    "    # Motion blur\n",
    "    # Aplica un desenfoque de movimiento a la imagen\n",
    "    kernel = np.zeros((k, k)) \n",
    "    kernel[int((k-1)/2), :] = np.ones(k) # Línea horizontal de unos \n",
    "    kernel /= k # Normaliza el kernel \n",
    "    return cv2.filter2D(img, -1, kernel)"
   ]
  },
  {
   "cell_type": "code",
   "execution_count": null,
   "id": "e595f5f9",
   "metadata": {},
   "outputs": [],
   "source": [
    "def read_labels(txt):\n",
    "    labels=[]\n",
    "    with open(txt) as f:\n",
    "        for line in f: # Leer cada línea del archivo \n",
    "            cls,x,y,w,h=map(float, line.split()) # cls, x, y, w, h = map(float, line.split())\n",
    "            # Convertir las coordenadas a float y agregar a la lista de etiquetas \n",
    "            labels.append((int(cls),x,y,w,h))\n",
    "    return labels\n",
    "\n",
    "def write_labels(txt, labels):\n",
    "    with open(txt,'w') as f: \n",
    "        for cls,x,y,w,h in labels: # cls, x, y, w, h = labels:\n",
    "            # Escribir cada etiqueta en el archivo \n",
    "            f.write(f\"{cls} {x:.6f} {y:.6f} {w:.6f} {h:.6f}\\n\")"
   ]
  },
  {
   "cell_type": "code",
   "execution_count": null,
   "id": "d04c0c27",
   "metadata": {},
   "outputs": [
    {
     "name": "stderr",
     "output_type": "stream",
     "text": [
      "Augmentando: 100%|██████████| 400/400 [02:11<00:00,  3.04it/s]"
     ]
    },
    {
     "name": "stdout",
     "output_type": "stream",
     "text": [
      "Augmentations completas.\n"
     ]
    },
    {
     "name": "stderr",
     "output_type": "stream",
     "text": [
      "\n"
     ]
    }
   ],
   "source": [
    "images = glob.glob(str(RAW_IMG_DIR/'*.jpg'))\n",
    "for img_path in tqdm(images, desc='Augmentando'):\n",
    "    base = Path(img_path).stem # Obtener el nombre base del archivo sin extensión\n",
    "    # Verificar si el archivo de etiquetas existe \n",
    "    lbl_path = RAW_LBL_DIR/f'{base}.txt'\n",
    "    if not lbl_path.exists():\n",
    "        continue\n",
    "    # copiar original\n",
    "    shutil.copy(img_path, AUG_IMG_DIR/f'{base}.jpg') # Copiar imagen original\n",
    "    # copiar etiquetas originales \n",
    "    shutil.copy(lbl_path, AUG_LBL_DIR/f'{base}.txt')\n",
    "\n",
    "    img = cv2.imread(img_path)\n",
    "    labels = read_labels(lbl_path)\n",
    "\n",
    "    # flip\n",
    "    img_f, lab_f = hflip(img, labels)\n",
    "    cv2.imwrite(str(AUG_IMG_DIR/f'{base}_flip.jpg'), img_f)\n",
    "    write_labels(AUG_LBL_DIR/f'{base}_flip.txt', lab_f)\n",
    "\n",
    "    # hsv\n",
    "    img_h = hsv_jitter(img)\n",
    "    cv2.imwrite(str(AUG_IMG_DIR/f'{base}_hsv.jpg'), img_h)\n",
    "    shutil.copy(lbl_path, AUG_LBL_DIR/f'{base}_hsv.txt')\n",
    "\n",
    "    # blur\n",
    "    img_b = motion_blur(img)\n",
    "    cv2.imwrite(str(AUG_IMG_DIR/f'{base}_blur.jpg'), img_b)\n",
    "    shutil.copy(lbl_path, AUG_LBL_DIR/f'{base}_blur.txt')\n",
    "print('Augmentations completas.')"
   ]
  }
 ],
 "metadata": {
  "kernelspec": {
   "display_name": "venv",
   "language": "python",
   "name": "python3"
  },
  "language_info": {
   "codemirror_mode": {
    "name": "ipython",
    "version": 3
   },
   "file_extension": ".py",
   "mimetype": "text/x-python",
   "name": "python",
   "nbconvert_exporter": "python",
   "pygments_lexer": "ipython3",
   "version": "3.13.0"
  }
 },
 "nbformat": 4,
 "nbformat_minor": 5
}
